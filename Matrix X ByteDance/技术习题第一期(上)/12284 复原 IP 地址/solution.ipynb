{
 "cells": [
  {
   "cell_type": "code",
   "execution_count": 3,
   "metadata": {},
   "outputs": [],
   "source": [
    "# solution\n",
    "class Solution:\n",
    "    def restoreIpAddresses(self, s: str):\n",
    "        SEG_COUNT = 4\n",
    "        ans = list()\n",
    "        segments = [0] * SEG_COUNT\n",
    "        \n",
    "        def dfs(segId: int, segStart: int):\n",
    "            # 如果找到了 4 段 IP 地址并且遍历完了字符串，那么就是一种答案\n",
    "            if segId == SEG_COUNT:\n",
    "                if segStart == len(s):\n",
    "                    ipAddr = \".\".join(str(seg) for seg in segments)\n",
    "                    ans.append(ipAddr)\n",
    "                return\n",
    "            \n",
    "            # 如果还没有找到 4 段 IP 地址就已经遍历完了字符串，那么提前回溯\n",
    "            if segStart == len(s):\n",
    "                return\n",
    "\n",
    "            # 由于不能有前导零，如果当前数字为 0，那么这一段 IP 地址只能为 0\n",
    "            if s[segStart] == \"0\":\n",
    "                segments[segId] = 0\n",
    "                dfs(segId + 1, segStart + 1)\n",
    "            \n",
    "            # 一般情况，枚举每一种可能性并递归\n",
    "            addr = 0\n",
    "            for segEnd in range(segStart, len(s)):\n",
    "                addr = addr * 10 + (ord(s[segEnd]) - ord(\"0\"))\n",
    "                if 0 < addr <= 0xFF:\n",
    "                    segments[segId] = addr\n",
    "                    dfs(segId + 1, segEnd + 1)\n",
    "                else:\n",
    "                    break\n",
    "        \n",
    "\n",
    "        dfs(0, 0)\n",
    "        return ans"
   ]
  },
  {
   "cell_type": "markdown",
   "metadata": {},
   "source": [
    "### 测试代码如下"
   ]
  },
  {
   "cell_type": "code",
   "execution_count": 4,
   "metadata": {},
   "outputs": [
    {
     "name": "stdout",
     "output_type": "stream",
     "text": [
      "['255.255.11.255', '255.255.112.55']\n",
      "['1.1.1.111', '1.1.11.11', '1.1.111.1', '1.11.1.11', '1.11.11.1', '1.111.1.1', '11.1.1.11', '11.1.11.1', '11.11.1.1', '111.1.1.1']\n"
     ]
    }
   ],
   "source": [
    "run_end = 1\n",
    "while(run_end == 1):\n",
    "    ip = input()\n",
    "    if(ip != \"-1\"):\n",
    "        s = Solution()\n",
    "        print(s.restoreIpAddresses(ip))\n",
    "    else:\n",
    "        run_end = 0\n",
    "        break"
   ]
  }
 ],
 "metadata": {
  "kernelspec": {
   "display_name": "Python 3.9.10 64-bit",
   "language": "python",
   "name": "python3"
  },
  "language_info": {
   "codemirror_mode": {
    "name": "ipython",
    "version": 3
   },
   "file_extension": ".py",
   "mimetype": "text/x-python",
   "name": "python",
   "nbconvert_exporter": "python",
   "pygments_lexer": "ipython3",
   "version": "3.9.10"
  },
  "orig_nbformat": 4,
  "vscode": {
   "interpreter": {
    "hash": "aeab2a77c2df088fcaec8359c4869ea7236b9d1841edb46522577357b3551a12"
   }
  }
 },
 "nbformat": 4,
 "nbformat_minor": 2
}
